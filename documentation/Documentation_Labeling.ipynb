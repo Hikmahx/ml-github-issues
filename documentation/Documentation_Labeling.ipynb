{
 "cells": [
  {
   "cell_type": "code",
   "execution_count": 1,
   "id": "8ccacfe9-beaa-435a-8f85-c2d2169f82ff",
   "metadata": {},
   "outputs": [],
   "source": [
    "import pandas as pd\n",
    "\n",
    "data = pd.read_csv('../data.csv')\n",
    "\n",
    "# Documentation Label\n",
    "y_luyi = [False, False, False, False, False, False, False, False, True, True, \n",
    "          False, True, True, False, False, False, False, False, False, False, \n",
    "          False, False, False, True, False, False, False, False, False, True,\n",
    "          False, True, True, False, False, False, False, False, False, False, \n",
    "          False, False\n",
    "         ]\n",
    "\n",
    "y_jacob = [False, False, False, True, True, False, False, False, False, True, \n",
    "           False, True, False, False, True, False, False, False, False, False, \n",
    "           False, False, True, False, False, False, True, False, True, False, \n",
    "           False, False, False, False, False, False, False, False, False, True,\n",
    "           False, False, False, False, False, False, False, True, True, False\n",
    "          ]\n",
    "\n",
    "y_zz = [False, True, False, False, False, False, False, False, True, False, \n",
    "        False, False, False, False, False, False, False, False, False, False, \n",
    "        False, False, False, False, False, True, False, False, False, False, \n",
    "        False, False, False, False, False, False, False, False, False, True,\n",
    "        False, False, False, False, True, True, False, False, False, False, \n",
    "        False, True, False, False, False, True, True, False, False, False,\n",
    "        True, True, False, False, False, False, True, False, False, False        \n",
    "       ]"
   ]
  },
  {
   "cell_type": "code",
   "execution_count": 3,
   "id": "3f2caac0-cfa5-45a8-9965-47ce12034a61",
   "metadata": {},
   "outputs": [],
   "source": [
    "data_X = data\n",
    "data_y = pd.concat([pd.Series(y_luyi), pd.Series(y_jacob), pd.Series(y_zz)], ignore_index=True)"
   ]
  },
  {
   "cell_type": "code",
   "execution_count": 4,
   "id": "baa73c66-bc73-4c97-8da2-742232fbe363",
   "metadata": {},
   "outputs": [
    {
     "name": "stdout",
     "output_type": "stream",
     "text": [
      "Accuracy:  0.6829268292682927\n",
      "Confusion Matrix: \n",
      " [[27  1]\n",
      " [12  1]]\n",
      "Precision:  0.5\n",
      "Recall:  0.07692307692307693\n"
     ]
    }
   ],
   "source": [
    "import pandas as pd\n",
    "from sklearn.model_selection import train_test_split\n",
    "from sklearn.naive_bayes import MultinomialNB\n",
    "# from sklearn.linear_model import LogisticRegression\n",
    "# from sklearn.ensemble import RandomForestClassifier\n",
    "from sklearn.feature_extraction.text import CountVectorizer\n",
    "from sklearn.metrics import accuracy_score, confusion_matrix, precision_score, recall_score\n",
    "\n",
    "X_train, X_test, y_train, y_test = train_test_split(data_X, data_y, test_size=0.25, random_state=42)\n",
    "\n",
    "X_train_combined = X_train['Issue Title'].astype(str) + ' ' + X_train['Issue Body'].astype(str)\n",
    "X_test_combined = X_test['Issue Title'].astype(str) + ' ' + X_test['Issue Body'].astype(str)\n",
    "\n",
    "vectorizer = CountVectorizer()\n",
    "X_train_vectorized = vectorizer.fit_transform(X_train_combined)\n",
    "X_test_vectorized = vectorizer.transform(X_test_combined)\n",
    "\n",
    "model = MultinomialNB()\n",
    "# model = LogisticRegression(random_state=42, max_iter=1000)\n",
    "# model = RandomForestClassifier(random_state=42, n_estimators=100)\n",
    "\n",
    "model.fit(X_train_vectorized, y_train)\n",
    "y_predict = model.predict(X_test_vectorized)\n",
    "\n",
    "accuracy = accuracy_score(y_test, y_predict)\n",
    "cm = confusion_matrix(y_test, y_predict)\n",
    "precision = precision_score(y_test, y_predict)\n",
    "recall = recall_score(y_test, y_predict)\n",
    "print('Accuracy: ', accuracy)\n",
    "print('Confusion Matrix: \\n', cm)\n",
    "print('Precision: ', precision)\n",
    "print('Recall: ', recall)"
   ]
  }
 ],
 "metadata": {
  "kernelspec": {
   "display_name": "Python 3 (ipykernel)",
   "language": "python",
   "name": "python3"
  },
  "language_info": {
   "codemirror_mode": {
    "name": "ipython",
    "version": 3
   },
   "file_extension": ".py",
   "mimetype": "text/x-python",
   "name": "python",
   "nbconvert_exporter": "python",
   "pygments_lexer": "ipython3",
   "version": "3.13.0"
  }
 },
 "nbformat": 4,
 "nbformat_minor": 5
}
