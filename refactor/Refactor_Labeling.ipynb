{
 "cells": [
  {
   "cell_type": "code",
   "execution_count": 16,
   "id": "e4e91707-3c6a-410a-b2d3-6b97f3efd30e",
   "metadata": {},
   "outputs": [],
   "source": [
    "import pandas as pd\n",
    "\n",
    "data = pd.read_csv('../data.csv')\n",
    "\n",
    "# Refactor Label\n",
    "y_luyi = [False, False, False, False, True, False, False, False, False, True, \n",
    "          False, False, False, False, False, False, False, False, False, True,\n",
    "          False, False, False, False, True, False, False, False, False, True, \n",
    "          False, False, True, True, False, False, False, False, False, False, \n",
    "          False, False\n",
    "    \n",
    "]\n",
    "\n",
    "y_jacob = [True, False, False, False, False, True, False, False, True, True, \n",
    "           True, True, False, True, False, False, True, True, True, True,\n",
    "           True, False, False, False, True, True, True, False, False, False, \n",
    "           True, False, True, True, False, True, False, True, False, True,\n",
    "           False, False, False, False, True, False, True, True, True, False \n",
    "          ]\n",
    "\n",
    "y_zz = [False, False, False, True, True, False, False, False, False, False, \n",
    "        False, False, False, True, False, True, False, False, False, False, \n",
    "        False, False, False, False, False, True, False, False, False, False, \n",
    "        False, True, True, False, True, False, False, False, False, False,\n",
    "        False, False, False, False, False, False, False, False, True, False, \n",
    "        False, False, False, True, False, True, False, True, False, True, \n",
    "        False, False, False, False, False, False, False, True, True, False\n",
    "       ]"
   ]
  },
  {
   "cell_type": "code",
   "execution_count": 17,
   "id": "e42f6fed-9ca7-4bf0-a902-8060b38a804e",
   "metadata": {},
   "outputs": [
    {
     "data": {
      "text/plain": [
       "0      False\n",
       "1      False\n",
       "2      False\n",
       "3      False\n",
       "4       True\n",
       "       ...  \n",
       "157    False\n",
       "158    False\n",
       "159     True\n",
       "160     True\n",
       "161    False\n",
       "Length: 162, dtype: bool"
      ]
     },
     "execution_count": 17,
     "metadata": {},
     "output_type": "execute_result"
    }
   ],
   "source": [
    "data_X = data\n",
    "data_y = pd.concat([pd.Series(y_luyi), pd.Series(y_jacob), pd.Series(y_zz)], ignore_index=True)\n",
    "data_y"
   ]
  },
  {
   "cell_type": "code",
   "execution_count": 26,
   "id": "939319ad-eb82-4143-9642-eb17f9ccd317",
   "metadata": {},
   "outputs": [
    {
     "name": "stdout",
     "output_type": "stream",
     "text": [
      "Accuracy:  0.6341463414634146\n",
      "Confusion Matrix: \n",
      " [[21  6]\n",
      " [ 9  5]]\n",
      "Precision:  0.45454545454545453\n",
      "Recall:  0.35714285714285715\n"
     ]
    }
   ],
   "source": [
    "import pandas as pd\n",
    "from sklearn.model_selection import train_test_split\n",
    "from sklearn.naive_bayes import MultinomialNB\n",
    "# from sklearn.linear_model import LogisticRegression\n",
    "# from sklearn.ensemble import RandomForestClassifier\n",
    "from sklearn.feature_extraction.text import CountVectorizer\n",
    "from sklearn.metrics import accuracy_score, confusion_matrix, precision_score, recall_score\n",
    "\n",
    "X_train, X_test, y_train, y_test = train_test_split(data_X, data_y, test_size=0.25, random_state=42)\n",
    "\n",
    "X_train_combined = X_train['Issue Title'].astype(str) + ' ' + X_train['Issue Body'].astype(str)\n",
    "X_test_combined = X_test['Issue Title'].astype(str) + ' ' + X_test['Issue Body'].astype(str)\n",
    "\n",
    "vectorizer = CountVectorizer()\n",
    "X_train_vectorized = vectorizer.fit_transform(X_train_combined)\n",
    "X_test_vectorized = vectorizer.transform(X_test_combined)\n",
    "\n",
    "model = MultinomialNB()\n",
    "# model = LogisticRegression(random_state=42, max_iter=1000)\n",
    "# model = RandomForestClassifier(random_state=42, n_estimators=100)\n",
    "\n",
    "model.fit(X_train_vectorized, y_train)\n",
    "y_predict = model.predict(X_test_vectorized)\n",
    "\n",
    "accuracy = accuracy_score(y_test, y_predict)\n",
    "cm = confusion_matrix(y_test, y_predict)\n",
    "precision = precision_score(y_test, y_predict)\n",
    "recall = recall_score(y_test, y_predict)\n",
    "print('Accuracy: ', accuracy)\n",
    "print('Confusion Matrix: \\n', cm)\n",
    "print('Precision: ', precision)\n",
    "print('Recall: ', recall)"
   ]
  }
 ],
 "metadata": {
  "kernelspec": {
   "display_name": "Python 3 (ipykernel)",
   "language": "python",
   "name": "python3"
  },
  "language_info": {
   "codemirror_mode": {
    "name": "ipython",
    "version": 3
   },
   "file_extension": ".py",
   "mimetype": "text/x-python",
   "name": "python",
   "nbconvert_exporter": "python",
   "pygments_lexer": "ipython3",
   "version": "3.13.0"
  }
 },
 "nbformat": 4,
 "nbformat_minor": 5
}
