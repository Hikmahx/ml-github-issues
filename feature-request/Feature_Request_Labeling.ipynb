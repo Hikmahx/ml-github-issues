{
 "cells": [
  {
   "cell_type": "code",
   "execution_count": 17,
   "id": "d15bcfa6-1a44-491a-96e4-61ae1b52a19b",
   "metadata": {},
   "outputs": [],
   "source": [
    "import pandas as pd\n",
    "\n",
    "data = pd.read_csv('../data.csv')\n",
    "\n",
    "# Feature Request Label\n",
    "y_luyi = [False, False, False, False, False, False, False, False, True, True, \n",
    "          False, False, True, True, False, False, False, False, False, False, \n",
    "          True, False, False, True, True, True, False, False, False, True, \n",
    "          False, True, True, True, True, False, True, False, False, False, \n",
    "          False, False\n",
    "         ]\n",
    "\n",
    "y_jacob = [False, False, False, True, False, True, False, False, True, True, \n",
    "           True, True, True, True, True, True, True, True, True, True, \n",
    "           True, False, False, True, True, True, True, True, True, True, \n",
    "           False, True, True, False, True, True, True, True, True, True, \n",
    "           True, True, True, True, True, True, True, False, True, True\n",
    "          ]\n",
    "\n",
    "y_zz = [False, False, False, True, False, False, False, False, False, False, \n",
    "        False, False, True, True, False, True, False, True, False, True, \n",
    "        False, True, False, True, True, False, False, False, False, False, \n",
    "        False, False, False, True, True, False, False, False, False, True,\n",
    "        False, False, False, False, False, False, True, False, True, False, \n",
    "        True, False, False, False, True, True, True, False, False, True,\n",
    "        False, False, True, False, False, False, False, True, True, False\n",
    "       ]"
   ]
  },
  {
   "cell_type": "code",
   "execution_count": 18,
   "id": "30012164-8cec-4e24-8e3a-c092f64a42e7",
   "metadata": {},
   "outputs": [],
   "source": [
    "data_X = data\n",
    "data_y = pd.concat([pd.Series(y_luyi), pd.Series(y_jacob), pd.Series(y_zz)], ignore_index=True)"
   ]
  },
  {
   "cell_type": "code",
   "execution_count": 19,
   "id": "7d7f443c-1f14-4726-a019-40dd5b811c8b",
   "metadata": {},
   "outputs": [
    {
     "name": "stdout",
     "output_type": "stream",
     "text": [
      "Accuracy:  0.7317073170731707\n",
      "Confusion Matrix: \n",
      " [[17  3]\n",
      " [ 8 13]]\n",
      "Precision:  0.8125\n",
      "Recall:  0.6190476190476191\n"
     ]
    }
   ],
   "source": [
    "import pandas as pd\n",
    "from sklearn.model_selection import train_test_split\n",
    "from sklearn.naive_bayes import MultinomialNB\n",
    "# from sklearn.linear_model import LogisticRegression\n",
    "# from sklearn.ensemble import RandomForestClassifier\n",
    "from sklearn.feature_extraction.text import CountVectorizer\n",
    "from sklearn.metrics import accuracy_score, confusion_matrix, precision_score, recall_score\n",
    "\n",
    "X_train, X_test, y_train, y_test = train_test_split(data_X, data_y, test_size=0.25, random_state=42)\n",
    "\n",
    "X_train_combined = X_train['Issue Title'].astype(str) + ' ' + X_train['Issue Body'].astype(str)\n",
    "X_test_combined = X_test['Issue Title'].astype(str) + ' ' + X_test['Issue Body'].astype(str)\n",
    "\n",
    "vectorizer = CountVectorizer()\n",
    "X_train_vectorized = vectorizer.fit_transform(X_train_combined)\n",
    "X_test_vectorized = vectorizer.transform(X_test_combined)\n",
    "\n",
    "model = MultinomialNB()\n",
    "# model = LogisticRegression(random_state=42, max_iter=1000)\n",
    "# model = RandomForestClassifier(random_state=42, n_estimators=100)\n",
    "\n",
    "model.fit(X_train_vectorized, y_train)\n",
    "y_predict = model.predict(X_test_vectorized)\n",
    "\n",
    "accuracy = accuracy_score(y_test, y_predict)\n",
    "cm = confusion_matrix(y_test, y_predict)\n",
    "precision = precision_score(y_test, y_predict)\n",
    "recall = recall_score(y_test, y_predict)\n",
    "print('Accuracy: ', accuracy)\n",
    "print('Confusion Matrix: \\n', cm)\n",
    "print('Precision: ', precision)\n",
    "print('Recall: ', recall)"
   ]
  }
 ],
 "metadata": {
  "kernelspec": {
   "display_name": "Python 3 (ipykernel)",
   "language": "python",
   "name": "python3"
  },
  "language_info": {
   "codemirror_mode": {
    "name": "ipython",
    "version": 3
   },
   "file_extension": ".py",
   "mimetype": "text/x-python",
   "name": "python",
   "nbconvert_exporter": "python",
   "pygments_lexer": "ipython3",
   "version": "3.13.0"
  }
 },
 "nbformat": 4,
 "nbformat_minor": 5
}
